{
 "cells": [
  {
   "cell_type": "code",
   "execution_count": 3,
   "metadata": {},
   "outputs": [],
   "source": [
    "from sklearn.datasets import load_iris\n",
    "from sklearn.model_selection import train_test_split\n",
    "from sklearn.neighbors import KNeighborsClassifier\n",
    "import numpy as np"
   ]
  },
  {
   "cell_type": "code",
   "execution_count": 7,
   "metadata": {},
   "outputs": [
    {
     "name": "stdout",
     "output_type": "stream",
     "text": [
      "Target Names: ['setosa' 'versicolor' 'virginica']\n",
      "Feature Names: ['sepal length (cm)', 'sepal width (cm)', 'petal length (cm)', 'petal width (cm)']\n",
      "Type of data: <class 'numpy.ndarray'>\n",
      "Shape of data: (150, 4)\n"
     ]
    }
   ],
   "source": [
    "dataset = load_iris()\n",
    "print(\"Target Names: {}\".format(dataset['target_names']))\n",
    "print(\"Feature Names: {}\".format(dataset['feature_names']))\n",
    "print(\"Type of data: {}\".format(type(dataset['data'])))\n",
    "print(\"Shape of data: {}\".format(dataset['data'].shape))"
   ]
  },
  {
   "cell_type": "code",
   "execution_count": 11,
   "metadata": {},
   "outputs": [
    {
     "name": "stdout",
     "output_type": "stream",
     "text": [
      "xtrain shape: (112, 4)\n",
      "ytrain shape: (112,)\n",
      "xtest shape: (38, 4)\n",
      "ytest shape: (38,)\n"
     ]
    }
   ],
   "source": [
    "xtrain,xtest,ytrain,ytest = train_test_split(dataset['data'],dataset['target'],random_state = 0)\n",
    "print(\"xtrain shape: {}\".format(xtrain.shape))\n",
    "print(\"ytrain shape: {}\".format(ytrain.shape))\n",
    "print(\"xtest shape: {}\".format(xtest.shape))\n",
    "print(\"ytest shape: {}\".format(ytest.shape))"
   ]
  },
  {
   "cell_type": "code",
   "execution_count": 31,
   "metadata": {},
   "outputs": [
    {
     "data": {
      "text/plain": [
       "KNeighborsClassifier(algorithm='auto', leaf_size=30, metric='minkowski',\n",
       "                     metric_params=None, n_jobs=None, n_neighbors=1, p=2,\n",
       "                     weights='uniform')"
      ]
     },
     "execution_count": 31,
     "metadata": {},
     "output_type": "execute_result"
    }
   ],
   "source": [
    "knn = KNeighborsClassifier(n_neighbors=1)\n",
    "knn.fit(xtrain,ytrain)"
   ]
  },
  {
   "cell_type": "code",
   "execution_count": 32,
   "metadata": {},
   "outputs": [
    {
     "name": "stdout",
     "output_type": "stream",
     "text": [
      "predicted target name: ['setosa']\n"
     ]
    }
   ],
   "source": [
    "X_new = np.array([[5, 2.9, 1, 0.2]])\n",
    "prediction = knn.predict(X_new)\n",
    "print(\"predicted target name: {}\".format(dataset['target_names'][prediction]))"
   ]
  },
  {
   "cell_type": "code",
   "execution_count": 33,
   "metadata": {},
   "outputs": [
    {
     "name": "stdout",
     "output_type": "stream",
     "text": [
      "test score mean(np mean): 0.9736842105263158\n"
     ]
    }
   ],
   "source": [
    "ypredict = knn.predict(xtest)\n",
    "print(\"test score mean(np mean): {}\".format(np.mean(ypredict==ytest)))"
   ]
  }
 ],
 "metadata": {
  "kernelspec": {
   "display_name": "Python 3",
   "language": "python",
   "name": "python3"
  },
  "language_info": {
   "codemirror_mode": {
    "name": "ipython",
    "version": 3
   },
   "file_extension": ".py",
   "mimetype": "text/x-python",
   "name": "python",
   "nbconvert_exporter": "python",
   "pygments_lexer": "ipython3",
   "version": "3.6.3"
  }
 },
 "nbformat": 4,
 "nbformat_minor": 2
}
